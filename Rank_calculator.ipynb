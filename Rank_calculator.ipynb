{
  "cells": [
    {
      "cell_type": "markdown",
      "metadata": {
        "id": "view-in-github",
        "colab_type": "text"
      },
      "source": [
        "<a href=\"https://colab.research.google.com/github/CoinHunter777/RankCalculator/blob/main/Rank_calculator.ipynb\" target=\"_parent\"><img src=\"https://colab.research.google.com/assets/colab-badge.svg\" alt=\"Open In Colab\"/></a>"
      ]
    },
    {
      "cell_type": "code",
      "source": [
        "import requests\n",
        "import json\n",
        "import math\n",
        "from datetime import datetime, timedelta\n",
        "from bs4 import BeautifulSoup\n",
        "from pprint import pprint\n",
        "import csv\n",
        "\n",
        "\n",
        "rBody  = {'userName': 'guest@qubic.li', 'password': 'guest13@Qubic.li', 'twoFactorCode': ''}\n",
        "rHeaders = {'Accept': 'application/json', 'Content-Type': 'application/json-patch+json'}\n",
        "\n",
        "try:\n",
        "    r = requests.post('https://api.qubic.li/Auth/Login', data=json.dumps(rBody), headers=rHeaders,timeout=10)\n",
        "    # print(r.status_code)\n",
        "    token = r.json()['token']\n",
        "    rHeaders = {'Accept': 'application/json', 'Authorization': 'Bearer ' + token}\n",
        "    try:\n",
        "        r = requests.get('https://api.qubic.li/Score/Get', headers=rHeaders, timeout=10)\n",
        "        networkStat = r.json()\n",
        "\n",
        "        # score=networkStat['scores'][0]['identity']\n",
        "        # pprint (networkStat['scores'])\n",
        "\n",
        "        scores = networkStat['scores']\n",
        "        s = sorted(scores, key=lambda t: t['score'], reverse=True)\n",
        "        # pprint (s)\n",
        "        rank = 0\n",
        "        for comp in s:\n",
        "            rank = rank + 1\n",
        "            if comp['identity'] == 'NJFZJBBJLJIZYEYPXSMWDYINUPKBYOEDOYGQXVSOGHJAKCGDFAJJCTWANYLI' or comp[\n",
        "                'identity'] == 'GDXYIXYSWTZHOEMBWFUTQCNIOYTBOTWJQNMQHXOGBFWUYVCPZDNKWSFHSGKL':\n",
        "                print(\n",
        "                    '----------------------------------------------------------------------------------------------------')\n",
        "                print('Id: ', comp['identity'])\n",
        "                print('rank:', rank, 'score:', comp['score'], 'BC score:', comp['adminScore'], 'avance sur le dernier:',comp['score']-s[676]['score'] )\n",
        "                print('Next Computor:')\n",
        "                print('rank:', rank + 1, 'score:', s[rank]['score'], 'BC score:', s[rank]['adminScore'])\n",
        "        print('----------------------------------------------------------------------------------------------------')\n",
        "        print('Last computor:')\n",
        "        print('rank:', '676', 'score:', s[676]['score'], 'BC score:', s[676]['adminScore'])\n",
        "\n",
        "    except requests.exceptions.Timeout as errt:\n",
        "        print('Time out Error:', errt)\n",
        "\n",
        "except requests.exceptions.Timeout as errt:\n",
        "    print('Time out Error:',errt)\n",
        "except requests.exceptions.RequestException as err:\n",
        "    print(\"Oops l'api est encore dans le jus!\")"
      ],
      "metadata": {
        "id": "UQZgUa3gI9TH",
        "colab": {
          "base_uri": "https://localhost:8080/"
        },
        "outputId": "812fd380-a139-466e-9837-e4f293016358"
      },
      "execution_count": 26,
      "outputs": [
        {
          "output_type": "stream",
          "name": "stdout",
          "text": [
            "----------------------------------------------------------------------------------------------------\n",
            "Id:  GDXYIXYSWTZHOEMBWFUTQCNIOYTBOTWJQNMQHXOGBFWUYVCPZDNKWSFHSGKL\n",
            "rank: 1 score: 2226 BC score: 1919 avance sur le dernier: 307\n",
            "Next Computor:\n",
            "rank: 2 score: 2224 BC score: 2224\n",
            "----------------------------------------------------------------------------------------------------\n",
            "Id:  NJFZJBBJLJIZYEYPXSMWDYINUPKBYOEDOYGQXVSOGHJAKCGDFAJJCTWANYLI\n",
            "rank: 2 score: 2224 BC score: 2224 avance sur le dernier: 305\n",
            "Next Computor:\n",
            "rank: 3 score: 2104 BC score: 2104\n",
            "----------------------------------------------------------------------------------------------------\n",
            "Last computor:\n",
            "rank: 676 score: 1919 BC score: 1918\n"
          ]
        }
      ]
    }
  ],
  "metadata": {
    "colab": {
      "provenance": [],
      "include_colab_link": true
    },
    "kernelspec": {
      "display_name": "Python 3",
      "name": "python3"
    }
  },
  "nbformat": 4,
  "nbformat_minor": 0
}